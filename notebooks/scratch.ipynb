{
 "cells": [
  {
   "cell_type": "code",
   "execution_count": 1,
   "id": "9ae16d88",
   "metadata": {},
   "outputs": [],
   "source": [
    "import os\n",
    "import glob\n",
    "import pandas as pd"
   ]
  },
  {
   "cell_type": "code",
   "execution_count": 12,
   "id": "2e5f86d0",
   "metadata": {},
   "outputs": [],
   "source": [
    "page_xml_path = (\n",
    "    r\"\\\\ad\\collections\\TwoCenturies\\TwoCenturies IV\\Incunabula\\*column pages Transkribus export\"\n",
    "    r\"\\*\\*_column_model_output\\page\\*.xml\"\n",
    ")"
   ]
  },
  {
   "cell_type": "code",
   "execution_count": 13,
   "id": "53eb9fbd",
   "metadata": {},
   "outputs": [],
   "source": [
    "xmls = glob.glob(page_xml_path)"
   ]
  },
  {
   "cell_type": "code",
   "execution_count": 14,
   "id": "fc19d5d1",
   "metadata": {},
   "outputs": [
    {
     "data": {
      "text/plain": [
       "2278"
      ]
     },
     "execution_count": 14,
     "metadata": {},
     "output_type": "execute_result"
    }
   ],
   "source": [
    "len(xmls)"
   ]
  },
  {
   "cell_type": "code",
   "execution_count": 19,
   "id": "325c4501",
   "metadata": {},
   "outputs": [],
   "source": [
    "sizes = pd.DataFrame([(x, os.stat(x).st_size) for x in xmls], columns=['Path', 'Filesize'])"
   ]
  },
  {
   "cell_type": "code",
   "execution_count": 24,
   "id": "4712bb37",
   "metadata": {},
   "outputs": [
    {
     "data": {
      "text/plain": [
       "array([['\\\\\\\\ad\\\\collections\\\\TwoCenturies\\\\TwoCenturies IV\\\\Incunabula\\\\BMC_1 4 column pages Transkribus export\\\\1282976\\\\BMC_1_4_column_model_output\\\\page\\\\0023_J_2704_aa_30_1_0136.xml',\n",
       "        2315],\n",
       "       ['\\\\\\\\ad\\\\collections\\\\TwoCenturies\\\\TwoCenturies IV\\\\Incunabula\\\\BMC_2 4 column pages Transkribus export\\\\1268109\\\\BMC_2_4_column_model_output\\\\page\\\\0047_J_2704_aa_30_2_0114.xml',\n",
       "        3830],\n",
       "       ['\\\\\\\\ad\\\\collections\\\\TwoCenturies\\\\TwoCenturies IV\\\\Incunabula\\\\BMC_2 4 column pages Transkribus export\\\\1268109\\\\BMC_2_4_column_model_output\\\\page\\\\0065_J_2704_aa_30_2_0199.xml',\n",
       "        3335],\n",
       "       ['\\\\\\\\ad\\\\collections\\\\TwoCenturies\\\\TwoCenturies IV\\\\Incunabula\\\\BMC_5 4 column pages Transkribus export\\\\1268132\\\\BMC_5_4_column_model_output\\\\page\\\\0170_J_2704_aa_30_5_0453.xml',\n",
       "        2549],\n",
       "       ['\\\\\\\\ad\\\\collections\\\\TwoCenturies\\\\TwoCenturies IV\\\\Incunabula\\\\BMC_7 4 column pages Transkribus export\\\\1268145\\\\BMC_7_4_column_model_output\\\\page\\\\0078_J_2704_aa_30_7_0200.xml',\n",
       "        3198]], dtype=object)"
      ]
     },
     "execution_count": 24,
     "metadata": {},
     "output_type": "execute_result"
    }
   ],
   "source": [
    "sizes.query(\"2000 < Filesize < 5000\").head().values"
   ]
  },
  {
   "cell_type": "markdown",
   "id": "377f57c4",
   "metadata": {},
   "source": [
    "Using this one for unit tests?  \n",
    "\"\\\\\\\\ad\\\\collections\\\\TwoCenturies\\\\TwoCenturies IV\\\\Incunabula\\\\BMC_7 4 column pages Transkribus export\\\\1268145\\\\BMC_7_4_column_model_output\\\\page\\\\0078_J_2704_aa_30_7_0200.xml\""
   ]
  }
 ],
 "metadata": {
  "kernelspec": {
   "display_name": "Python [conda env:incu]",
   "language": "python",
   "name": "conda-env-incu-py"
  },
  "language_info": {
   "codemirror_mode": {
    "name": "ipython",
    "version": 3
   },
   "file_extension": ".py",
   "mimetype": "text/x-python",
   "name": "python",
   "nbconvert_exporter": "python",
   "pygments_lexer": "ipython3",
   "version": "3.11.2"
  }
 },
 "nbformat": 4,
 "nbformat_minor": 5
}
